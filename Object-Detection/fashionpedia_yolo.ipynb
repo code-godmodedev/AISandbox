{
 "cells": [
  {
   "cell_type": "code",
   "execution_count": 6,
   "metadata": {},
   "outputs": [],
   "source": [
    "from ultralytics import YOLO, settings\n",
    "from pathlib import Path\n",
    "import torch"
   ]
  },
  {
   "cell_type": "code",
   "execution_count": 7,
   "metadata": {},
   "outputs": [],
   "source": [
    "model = YOLO(\"weights/best.pt\")"
   ]
  },
  {
   "cell_type": "code",
   "execution_count": 8,
   "metadata": {},
   "outputs": [
    {
     "data": {
      "text/plain": [
       "'cuda'"
      ]
     },
     "execution_count": 8,
     "metadata": {},
     "output_type": "execute_result"
    }
   ],
   "source": [
    "device = None\n",
    "if torch.cuda.is_available():\n",
    "    device = 'cuda'\n",
    "elif torch.backends.mps.is_available():\n",
    "    device = 'mps'\n",
    "else: device = 'cpu'\n",
    "\n",
    "device"
   ]
  },
  {
   "cell_type": "code",
   "execution_count": 9,
   "metadata": {},
   "outputs": [
    {
     "data": {
      "text/plain": [
       "('/home/pranay/AISandbox/datasets',\n",
       " '/home/pranay/AISandbox/Object-Detection/runs',\n",
       " '/home/pranay/AISandbox/Object-Detection/weights')"
      ]
     },
     "execution_count": 9,
     "metadata": {},
     "output_type": "execute_result"
    }
   ],
   "source": [
    "# settings.update({'datasets_dir': '/Users/pranaysanam/AISandbox'})\n",
    "settings['datasets_dir'], settings['runs_dir'], settings['weights_dir']"
   ]
  },
  {
   "cell_type": "code",
   "execution_count": 10,
   "metadata": {},
   "outputs": [
    {
     "data": {
      "text/plain": [
       "PosixPath('/home/pranay/AISandbox/datasets/fashionpedia/data.yaml')"
      ]
     },
     "execution_count": 10,
     "metadata": {},
     "output_type": "execute_result"
    }
   ],
   "source": [
    "data_yaml_path = Path(settings['datasets_dir'])/Path('fashionpedia/data.yaml')\n",
    "# data_yaml_path = 'fashionpedia/data.yaml'\n",
    "\n",
    "data_yaml_path"
   ]
  },
  {
   "cell_type": "code",
   "execution_count": 11,
   "metadata": {},
   "outputs": [
    {
     "name": "stdout",
     "output_type": "stream",
     "text": [
      "New https://pypi.org/project/ultralytics/8.3.51 available 😃 Update with 'pip install -U ultralytics'\n",
      "Ultralytics 8.3.40 🚀 Python-3.12.8 torch-2.5.1 CUDA:0 (NVIDIA GeForce RTX 2070 SUPER, 8192MiB)\n",
      "\u001b[34m\u001b[1mengine/trainer: \u001b[0mtask=detect, mode=train, model=weights/best.pt, data=/home/pranay/AISandbox/datasets/fashionpedia/data.yaml, epochs=10, time=None, patience=100, batch=16, imgsz=640, save=True, save_period=-1, cache=False, device=cuda, workers=8, project=None, name=train19, exist_ok=False, pretrained=True, optimizer=auto, verbose=True, seed=0, deterministic=True, single_cls=False, rect=False, cos_lr=False, close_mosaic=10, resume=False, amp=True, fraction=1.0, profile=False, freeze=None, multi_scale=False, overlap_mask=True, mask_ratio=4, dropout=0.0, val=True, split=val, save_json=False, save_hybrid=False, conf=None, iou=0.7, max_det=300, half=False, dnn=False, plots=True, source=None, vid_stride=1, stream_buffer=False, visualize=False, augment=False, agnostic_nms=False, classes=None, retina_masks=False, embed=None, show=False, save_frames=False, save_txt=False, save_conf=False, save_crop=False, show_labels=True, show_conf=True, show_boxes=True, line_width=None, format=torchscript, keras=False, optimize=False, int8=False, dynamic=False, simplify=True, opset=None, workspace=None, nms=False, lr0=0.01, lrf=0.01, momentum=0.937, weight_decay=0.0005, warmup_epochs=3.0, warmup_momentum=0.8, warmup_bias_lr=0.1, box=7.5, cls=0.5, dfl=1.5, pose=12.0, kobj=1.0, nbs=64, hsv_h=0.015, hsv_s=0.7, hsv_v=0.4, degrees=0.0, translate=0.1, scale=0.5, shear=0.0, perspective=0.0, flipud=0.0, fliplr=0.5, bgr=0.0, mosaic=1.0, mixup=0.0, copy_paste=0.0, copy_paste_mode=flip, auto_augment=randaugment, erasing=0.4, crop_fraction=1.0, cfg=None, tracker=botsort.yaml, save_dir=/home/pranay/AISandbox/Object-Detection/runs/detect/train19\n",
      "\n",
      "                   from  n    params  module                                       arguments                     \n",
      "  0                  -1  1       464  ultralytics.nn.modules.conv.Conv             [3, 16, 3, 2]                 \n",
      "  1                  -1  1      4672  ultralytics.nn.modules.conv.Conv             [16, 32, 3, 2]                \n",
      "  2                  -1  1      6640  ultralytics.nn.modules.block.C3k2            [32, 64, 1, False, 0.25]      \n",
      "  3                  -1  1     36992  ultralytics.nn.modules.conv.Conv             [64, 64, 3, 2]                \n",
      "  4                  -1  1     26080  ultralytics.nn.modules.block.C3k2            [64, 128, 1, False, 0.25]     \n",
      "  5                  -1  1    147712  ultralytics.nn.modules.conv.Conv             [128, 128, 3, 2]              \n",
      "  6                  -1  1     87040  ultralytics.nn.modules.block.C3k2            [128, 128, 1, True]           \n",
      "  7                  -1  1    295424  ultralytics.nn.modules.conv.Conv             [128, 256, 3, 2]              \n",
      "  8                  -1  1    346112  ultralytics.nn.modules.block.C3k2            [256, 256, 1, True]           \n",
      "  9                  -1  1    164608  ultralytics.nn.modules.block.SPPF            [256, 256, 5]                 \n",
      " 10                  -1  1    249728  ultralytics.nn.modules.block.C2PSA           [256, 256, 1]                 \n",
      " 11                  -1  1         0  torch.nn.modules.upsampling.Upsample         [None, 2, 'nearest']          \n",
      " 12             [-1, 6]  1         0  ultralytics.nn.modules.conv.Concat           [1]                           \n",
      " 13                  -1  1    111296  ultralytics.nn.modules.block.C3k2            [384, 128, 1, False]          \n",
      " 14                  -1  1         0  torch.nn.modules.upsampling.Upsample         [None, 2, 'nearest']          \n",
      " 15             [-1, 4]  1         0  ultralytics.nn.modules.conv.Concat           [1]                           \n",
      " 16                  -1  1     32096  ultralytics.nn.modules.block.C3k2            [256, 64, 1, False]           \n",
      " 17                  -1  1     36992  ultralytics.nn.modules.conv.Conv             [64, 64, 3, 2]                \n",
      " 18            [-1, 13]  1         0  ultralytics.nn.modules.conv.Concat           [1]                           \n",
      " 19                  -1  1     86720  ultralytics.nn.modules.block.C3k2            [192, 128, 1, False]          \n",
      " 20                  -1  1    147712  ultralytics.nn.modules.conv.Conv             [128, 128, 3, 2]              \n",
      " 21            [-1, 10]  1         0  ultralytics.nn.modules.conv.Concat           [1]                           \n",
      " 22                  -1  1    378880  ultralytics.nn.modules.block.C3k2            [384, 256, 1, True]           \n",
      " 23        [16, 19, 22]  1    439642  ultralytics.nn.modules.head.Detect           [46, [64, 128, 256]]          \n",
      "YOLO11n summary: 319 layers, 2,598,810 parameters, 2,598,794 gradients\n",
      "\n",
      "Transferred 499/499 items from pretrained weights\n",
      "Freezing layer 'model.23.dfl.conv.weight'\n",
      "\u001b[34m\u001b[1mAMP: \u001b[0mrunning Automatic Mixed Precision (AMP) checks...\n",
      "\u001b[34m\u001b[1mAMP: \u001b[0mchecks passed ✅\n"
     ]
    },
    {
     "name": "stderr",
     "output_type": "stream",
     "text": [
      "\u001b[34m\u001b[1mtrain: \u001b[0mScanning /home/pranay/AISandbox/datasets/fashionpedia/labels/train.cache... 36498 images, 0 backgrounds, 0 corrupt: 100%|██████████| 36498/36498 [00:00<?, ?it/s]"
     ]
    },
    {
     "name": "stdout",
     "output_type": "stream",
     "text": [
      "\u001b[34m\u001b[1mtrain: \u001b[0mWARNING ⚠️ /home/pranay/AISandbox/datasets/fashionpedia/images/train/19725.jpg: 1 duplicate labels removed\n"
     ]
    },
    {
     "name": "stderr",
     "output_type": "stream",
     "text": [
      "\n",
      "\u001b[34m\u001b[1mval: \u001b[0mScanning /home/pranay/AISandbox/datasets/fashionpedia/labels/val.cache... 1158 images, 0 backgrounds, 0 corrupt: 100%|██████████| 1158/1158 [00:00<?, ?it/s]\n"
     ]
    },
    {
     "name": "stdout",
     "output_type": "stream",
     "text": [
      "Plotting labels to /home/pranay/AISandbox/Object-Detection/runs/detect/train19/labels.jpg... \n",
      "\u001b[34m\u001b[1moptimizer:\u001b[0m 'optimizer=auto' found, ignoring 'lr0=0.01' and 'momentum=0.937' and determining best 'optimizer', 'lr0' and 'momentum' automatically... \n",
      "\u001b[34m\u001b[1moptimizer:\u001b[0m AdamW(lr=0.0002, momentum=0.9) with parameter groups 81 weight(decay=0.0), 88 weight(decay=0.0005), 87 bias(decay=0.0)\n",
      "Image sizes 640 train, 640 val\n",
      "Using 8 dataloader workers\n",
      "Logging results to \u001b[1m/home/pranay/AISandbox/Object-Detection/runs/detect/train19\u001b[0m\n",
      "Starting training for 10 epochs...\n",
      "Closing dataloader mosaic\n",
      "\n",
      "      Epoch    GPU_mem   box_loss   cls_loss   dfl_loss  Instances       Size\n"
     ]
    },
    {
     "name": "stderr",
     "output_type": "stream",
     "text": [
      "       1/10      2.63G      1.124       1.79      1.218         17        640: 100%|██████████| 2282/2282 [06:11<00:00,  6.15it/s]\n",
      "                 Class     Images  Instances      Box(P          R      mAP50  mAP50-95): 100%|██████████| 37/37 [00:07<00:00,  4.91it/s]\n"
     ]
    },
    {
     "name": "stdout",
     "output_type": "stream",
     "text": [
      "                   all       1158       8781      0.637      0.241      0.243      0.172\n",
      "\n",
      "      Epoch    GPU_mem   box_loss   cls_loss   dfl_loss  Instances       Size\n"
     ]
    },
    {
     "name": "stderr",
     "output_type": "stream",
     "text": [
      "       2/10      2.63G      1.098      1.564      1.195          9        640: 100%|██████████| 2282/2282 [05:36<00:00,  6.78it/s]\n",
      "                 Class     Images  Instances      Box(P          R      mAP50  mAP50-95): 100%|██████████| 37/37 [00:06<00:00,  5.56it/s]\n"
     ]
    },
    {
     "name": "stdout",
     "output_type": "stream",
     "text": [
      "                   all       1158       8781       0.62      0.263      0.283      0.202\n",
      "\n",
      "      Epoch    GPU_mem   box_loss   cls_loss   dfl_loss  Instances       Size\n"
     ]
    },
    {
     "name": "stderr",
     "output_type": "stream",
     "text": [
      "       3/10      2.71G      1.076      1.401      1.177         12        640: 100%|██████████| 2282/2282 [05:26<00:00,  6.99it/s]\n",
      "                 Class     Images  Instances      Box(P          R      mAP50  mAP50-95): 100%|██████████| 37/37 [00:07<00:00,  5.27it/s]\n"
     ]
    },
    {
     "name": "stdout",
     "output_type": "stream",
     "text": [
      "                   all       1158       8781      0.572      0.305      0.317      0.229\n",
      "\n",
      "      Epoch    GPU_mem   box_loss   cls_loss   dfl_loss  Instances       Size\n"
     ]
    },
    {
     "name": "stderr",
     "output_type": "stream",
     "text": [
      "       4/10      2.86G      1.048      1.285      1.159         17        640: 100%|██████████| 2282/2282 [05:31<00:00,  6.88it/s]\n",
      "                 Class     Images  Instances      Box(P          R      mAP50  mAP50-95): 100%|██████████| 37/37 [00:06<00:00,  5.75it/s]\n"
     ]
    },
    {
     "name": "stdout",
     "output_type": "stream",
     "text": [
      "                   all       1158       8781       0.56      0.324      0.331      0.238\n",
      "\n",
      "      Epoch    GPU_mem   box_loss   cls_loss   dfl_loss  Instances       Size\n"
     ]
    },
    {
     "name": "stderr",
     "output_type": "stream",
     "text": [
      "       5/10      2.74G      1.021      1.203      1.143         16        640: 100%|██████████| 2282/2282 [05:22<00:00,  7.07it/s]\n",
      "                 Class     Images  Instances      Box(P          R      mAP50  mAP50-95): 100%|██████████| 37/37 [00:06<00:00,  5.76it/s]\n"
     ]
    },
    {
     "name": "stdout",
     "output_type": "stream",
     "text": [
      "                   all       1158       8781      0.587      0.334      0.339      0.247\n",
      "\n",
      "      Epoch    GPU_mem   box_loss   cls_loss   dfl_loss  Instances       Size\n"
     ]
    },
    {
     "name": "stderr",
     "output_type": "stream",
     "text": [
      "       6/10      2.86G      1.001      1.147      1.128         18        640: 100%|██████████| 2282/2282 [05:22<00:00,  7.07it/s]\n",
      "                 Class     Images  Instances      Box(P          R      mAP50  mAP50-95): 100%|██████████| 37/37 [00:06<00:00,  5.78it/s]\n"
     ]
    },
    {
     "name": "stdout",
     "output_type": "stream",
     "text": [
      "                   all       1158       8781      0.544      0.347      0.358      0.259\n",
      "\n",
      "      Epoch    GPU_mem   box_loss   cls_loss   dfl_loss  Instances       Size\n"
     ]
    },
    {
     "name": "stderr",
     "output_type": "stream",
     "text": [
      "       7/10      2.88G     0.9784      1.101      1.116         16        640: 100%|██████████| 2282/2282 [05:30<00:00,  6.90it/s]\n",
      "                 Class     Images  Instances      Box(P          R      mAP50  mAP50-95): 100%|██████████| 37/37 [00:06<00:00,  5.42it/s]\n"
     ]
    },
    {
     "name": "stdout",
     "output_type": "stream",
     "text": [
      "                   all       1158       8781      0.605      0.365      0.364      0.268\n",
      "\n",
      "      Epoch    GPU_mem   box_loss   cls_loss   dfl_loss  Instances       Size\n"
     ]
    },
    {
     "name": "stderr",
     "output_type": "stream",
     "text": [
      "       8/10       2.8G     0.9631      1.065      1.105          4        640: 100%|██████████| 2282/2282 [05:39<00:00,  6.72it/s]\n",
      "                 Class     Images  Instances      Box(P          R      mAP50  mAP50-95): 100%|██████████| 37/37 [00:06<00:00,  5.39it/s]\n"
     ]
    },
    {
     "name": "stdout",
     "output_type": "stream",
     "text": [
      "                   all       1158       8781      0.613      0.352      0.373      0.276\n",
      "\n",
      "      Epoch    GPU_mem   box_loss   cls_loss   dfl_loss  Instances       Size\n"
     ]
    },
    {
     "name": "stderr",
     "output_type": "stream",
     "text": [
      "       9/10       2.7G     0.9474      1.037      1.095         16        640: 100%|██████████| 2282/2282 [05:33<00:00,  6.84it/s]\n",
      "                 Class     Images  Instances      Box(P          R      mAP50  mAP50-95): 100%|██████████| 37/37 [00:06<00:00,  5.69it/s]\n"
     ]
    },
    {
     "name": "stdout",
     "output_type": "stream",
     "text": [
      "                   all       1158       8781      0.626      0.355      0.382      0.287\n",
      "\n",
      "      Epoch    GPU_mem   box_loss   cls_loss   dfl_loss  Instances       Size\n"
     ]
    },
    {
     "name": "stderr",
     "output_type": "stream",
     "text": [
      "      10/10       2.8G     0.9326       1.01      1.088          5        640: 100%|██████████| 2282/2282 [05:31<00:00,  6.89it/s]\n",
      "                 Class     Images  Instances      Box(P          R      mAP50  mAP50-95): 100%|██████████| 37/37 [00:06<00:00,  5.70it/s]\n"
     ]
    },
    {
     "name": "stdout",
     "output_type": "stream",
     "text": [
      "                   all       1158       8781      0.627      0.353      0.379      0.282\n",
      "\n",
      "10 epochs completed in 0.951 hours.\n",
      "Optimizer stripped from /home/pranay/AISandbox/Object-Detection/runs/detect/train19/weights/last.pt, 5.5MB\n",
      "Optimizer stripped from /home/pranay/AISandbox/Object-Detection/runs/detect/train19/weights/best.pt, 5.5MB\n",
      "\n",
      "Validating /home/pranay/AISandbox/Object-Detection/runs/detect/train19/weights/best.pt...\n",
      "Ultralytics 8.3.40 🚀 Python-3.12.8 torch-2.5.1 CUDA:0 (NVIDIA GeForce RTX 2070 SUPER, 8192MiB)\n",
      "YOLO11n summary (fused): 238 layers, 2,591,122 parameters, 0 gradients\n"
     ]
    },
    {
     "name": "stderr",
     "output_type": "stream",
     "text": [
      "                 Class     Images  Instances      Box(P          R      mAP50  mAP50-95):   5%|▌         | 2/37 [00:00<00:10,  3.39it/s]"
     ]
    },
    {
     "name": "stdout",
     "output_type": "stream",
     "text": [
      "WARNING ⚠️ NMS time limit 3.600s exceeded\n"
     ]
    },
    {
     "name": "stderr",
     "output_type": "stream",
     "text": [
      "                 Class     Images  Instances      Box(P          R      mAP50  mAP50-95): 100%|██████████| 37/37 [00:17<00:00,  2.12it/s]\n"
     ]
    },
    {
     "name": "stdout",
     "output_type": "stream",
     "text": [
      "                   all       1158       8781      0.623      0.349      0.375      0.281\n",
      "         shirt, blouse        102        102      0.503      0.412      0.406      0.319\n",
      "top, t-shirt, sweatshirt        463        477      0.667      0.702      0.719      0.565\n",
      "               sweater         21         21      0.277       0.19      0.244      0.219\n",
      "              cardigan         12         12      0.137     0.0833      0.144      0.119\n",
      "                jacket        179        183      0.666      0.781      0.759      0.693\n",
      "                  vest         21         22          1          0      0.215      0.155\n",
      "                 pants        313        314      0.817      0.863      0.906        0.8\n",
      "                shorts        106        106      0.709      0.717      0.745      0.593\n",
      "                 skirt        162        162      0.631      0.722      0.685      0.605\n",
      "                  coat        103        104      0.663      0.774       0.74      0.654\n",
      "                 dress        506        508      0.806      0.886      0.899        0.8\n",
      "              jumpsuit         21         21      0.241       0.19      0.193       0.14\n",
      "                  cape          5          5          1          0      0.205      0.161\n",
      "               glasses        130        130      0.727      0.754      0.776       0.52\n",
      "                   hat         74         74      0.723      0.743      0.749      0.637\n",
      "headband, head covering, hair accessory        105        109      0.504      0.211      0.275      0.161\n",
      "                   tie          3          3      0.371      0.333      0.374      0.295\n",
      "                 glove         18         31      0.547      0.387      0.403      0.333\n",
      "                 watch         82         84      0.432       0.29      0.359      0.197\n",
      "                  belt        159        164        0.6      0.339      0.357       0.21\n",
      "            leg warmer          7         14          1          0      0.085     0.0447\n",
      "     tights, stockings         62        122      0.634      0.705      0.672      0.503\n",
      "                  sock         51         87      0.616      0.218      0.274      0.128\n",
      "                  shoe        804       1566      0.825      0.834      0.878      0.643\n",
      "           bag, wallet        205        214      0.613      0.542      0.578      0.365\n",
      "                 scarf         48         48      0.461      0.146      0.228      0.115\n",
      "              umbrella          5          5       0.62        0.8      0.682      0.656\n",
      "                  hood         32         32      0.343       0.25        0.2      0.141\n",
      "                collar        208        218      0.599      0.468      0.495      0.281\n",
      "                 lapel        132        135      0.665      0.519      0.581      0.347\n",
      "             epaulette          7         14       0.32      0.286      0.167     0.0929\n",
      "                sleeve        742       1442      0.847      0.808       0.86      0.619\n",
      "                pocket        288        541      0.459      0.179       0.21      0.102\n",
      "              neckline        895        929      0.688      0.552      0.602      0.354\n",
      "                buckle         64         67      0.563      0.149      0.191        0.1\n",
      "                zipper        105        194      0.134     0.0121     0.0406     0.0143\n",
      "              applique         28         61      0.269     0.0249     0.0521     0.0301\n",
      "                  bead         33        107      0.334      0.028     0.0243     0.0163\n",
      "                   bow          5          6          1          0    0.00856    0.00599\n",
      "                flower          6         37          0          0    0.00103   0.000607\n",
      "                fringe         11         30          1          0     0.0168     0.0145\n",
      "                ribbon          5          9          1          0          0          0\n",
      "                 rivet         55        143          1          0          0          0\n",
      "                ruffle         59         76      0.642      0.165      0.228      0.167\n",
      "                sequin          7         13          1          0     0.0305     0.0273\n",
      "                tassel          7         39          1          0          0          0\n",
      "Speed: 0.2ms preprocess, 1.8ms inference, 0.0ms loss, 5.2ms postprocess per image\n",
      "Results saved to \u001b[1m/home/pranay/AISandbox/Object-Detection/runs/detect/train19\u001b[0m\n"
     ]
    }
   ],
   "source": [
    "results = model.train(data=data_yaml_path, epochs=10, device=device)"
   ]
  },
  {
   "cell_type": "code",
   "execution_count": 23,
   "metadata": {},
   "outputs": [
    {
     "name": "stdout",
     "output_type": "stream",
     "text": [
      "\n",
      "image 1/11 /home/pranay/AISandbox/datasets/fashionpedia/images/pred/23.jpg: 640x448 1 person, 154.2ms\n",
      "image 2/11 /home/pranay/AISandbox/datasets/fashionpedia/images/pred/26.jpg: 448x640 8 persons, 17.0ms\n",
      "image 3/11 /home/pranay/AISandbox/datasets/fashionpedia/images/pred/29.jpg: 640x480 8 persons, 16.8ms\n",
      "image 4/11 /home/pranay/AISandbox/datasets/fashionpedia/images/pred/43.jpg: 640x384 1 person, 18.8ms\n",
      "image 5/11 /home/pranay/AISandbox/datasets/fashionpedia/images/pred/44.jpg: 640x448 4 persons, 1 skateboard, 17.6ms\n",
      "image 6/11 /home/pranay/AISandbox/datasets/fashionpedia/images/pred/46.jpg: 640x448 2 persons, 1 potted plant, 16.2ms\n",
      "image 7/11 /home/pranay/AISandbox/datasets/fashionpedia/images/pred/54.jpg: 640x544 8 persons, 17.0ms\n",
      "image 8/11 /home/pranay/AISandbox/datasets/fashionpedia/images/pred/63.jpg: 640x448 1 person, 18.2ms\n",
      "image 9/11 /home/pranay/AISandbox/datasets/fashionpedia/images/pred/72.jpg: 640x416 1 person, 18.1ms\n",
      "image 10/11 /home/pranay/AISandbox/datasets/fashionpedia/images/pred/76.jpg: 640x448 1 person, 1 tie, 18.1ms\n",
      "image 11/11 /home/pranay/AISandbox/datasets/fashionpedia/images/pred/92.jpg: 640x448 4 persons, 15.7ms\n",
      "Speed: 2.1ms preprocess, 29.8ms inference, 2.6ms postprocess per image at shape (1, 3, 640, 448)\n"
     ]
    }
   ],
   "source": [
    "model_original = YOLO('yolo11n.pt')\n",
    "\n",
    "results = model_original('/home/pranay/AISandbox/datasets/fashionpedia/images/pred')\n",
    "\n",
    "for result in results:\n",
    "    # boxes = result.boxes  # Boxes object for bounding box outputs\n",
    "    # # result.show()  # display to screen\n",
    "    result.save()  # save to disk"
   ]
  },
  {
   "cell_type": "code",
   "execution_count": 24,
   "metadata": {},
   "outputs": [
    {
     "name": "stdout",
     "output_type": "stream",
     "text": [
      "\n",
      "image 1/11 /home/pranay/AISandbox/datasets/fashionpedia/images/pred/23.jpg: 640x448 1 dress, 2 shoes, 1 neckline, 29.3ms\n",
      "image 2/11 /home/pranay/AISandbox/datasets/fashionpedia/images/pred/26.jpg: 448x640 1 jacket, 1 pants, 1 glasses, 2 shoes, 1 collar, 1 lapel, 4 sleeves, 37.3ms\n",
      "image 3/11 /home/pranay/AISandbox/datasets/fashionpedia/images/pred/29.jpg: 640x480 1 dress, 2 shoes, 1 sleeve, 1 neckline, 29.0ms\n",
      "image 4/11 /home/pranay/AISandbox/datasets/fashionpedia/images/pred/43.jpg: 640x384 1 dress, 1 shoe, 1 bag, wallet, 2 sleeves, 2 necklines, 24.3ms\n",
      "image 5/11 /home/pranay/AISandbox/datasets/fashionpedia/images/pred/44.jpg: 640x448 1 dress, 2 shoes, 1 neckline, 11.1ms\n",
      "image 6/11 /home/pranay/AISandbox/datasets/fashionpedia/images/pred/46.jpg: 640x448 2 top, t-shirt, sweatshirts, 1 shorts, 3 sleeves, 9.7ms\n",
      "image 7/11 /home/pranay/AISandbox/datasets/fashionpedia/images/pred/54.jpg: 640x544 1 dress, 1 glasses, 1 belt, 2 shoes, 10.9ms\n",
      "image 8/11 /home/pranay/AISandbox/datasets/fashionpedia/images/pred/63.jpg: 640x448 2 top, t-shirt, sweatshirts, 1 dress, 10.5ms\n",
      "image 9/11 /home/pranay/AISandbox/datasets/fashionpedia/images/pred/72.jpg: 640x416 1 jacket, 1 skirt, 1 dress, 2 hats, 2 shoes, 1 collar, 2 sleeves, 2 pockets, 11.5ms\n",
      "image 10/11 /home/pranay/AISandbox/datasets/fashionpedia/images/pred/76.jpg: 640x448 1 dress, 11.2ms\n",
      "image 11/11 /home/pranay/AISandbox/datasets/fashionpedia/images/pred/92.jpg: 640x448 1 dress, 2 shoes, 9.9ms\n",
      "Speed: 2.2ms preprocess, 17.7ms inference, 1.9ms postprocess per image at shape (1, 3, 640, 448)\n"
     ]
    }
   ],
   "source": [
    "model_to_eval = YOLO(\"weights/best.pt\")\n",
    "\n",
    "results = model_to_eval('/home/pranay/AISandbox/datasets/fashionpedia/images/pred')\n",
    "save_dir='/home/pranay/AISandbox/Object-Detection/results/fashionpedia'\n",
    "for result in results:\n",
    "    # boxes = result.boxes  # Boxes object for bounding box outputs\n",
    "    # result.show()  # display to screen\n",
    "    result.save()  # save to disk"
   ]
  },
  {
   "cell_type": "code",
   "execution_count": null,
   "metadata": {},
   "outputs": [],
   "source": []
  }
 ],
 "metadata": {
  "kernelspec": {
   "display_name": "pyai",
   "language": "python",
   "name": "python3"
  },
  "language_info": {
   "codemirror_mode": {
    "name": "ipython",
    "version": 3
   },
   "file_extension": ".py",
   "mimetype": "text/x-python",
   "name": "python",
   "nbconvert_exporter": "python",
   "pygments_lexer": "ipython3",
   "version": "3.12.8"
  }
 },
 "nbformat": 4,
 "nbformat_minor": 2
}
